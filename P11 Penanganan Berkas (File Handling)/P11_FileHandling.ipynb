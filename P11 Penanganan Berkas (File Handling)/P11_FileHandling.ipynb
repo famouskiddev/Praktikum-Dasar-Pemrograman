{
 "cells": [
  {
   "cell_type": "markdown",
   "id": "b3450a5a-c882-48e6-8aae-8be59018aedb",
   "metadata": {
    "id": "b3450a5a-c882-48e6-8aae-8be59018aedb"
   },
   "source": [
    "# **Modul Pertemuan 12: Penanganan Berkas (File Handling)**\n",
    "\n",
    "## **Pembahasan**\n",
    "\n",
    "### **1. Apa itu Penanganan Berkas?**\n",
    "\n",
    "Penanganan berkas adalah proses melakukan operasi pada berkas di sistem penyimpanan, seperti membuka, membaca, menulis, dan menghapus berkas. Dalam Python, kita dapat menggunakan fungsi built-in seperti `open()`, `read()`, `write()`, dan `close()` untuk menangani berkas.\n",
    "\n",
    "### **2. Membuka Berkas**\n",
    "\n",
    "Untuk membuka berkas, kita menggunakan fungsi `open()`, yang memerlukan nama berkas dan mode akses (misalnya, \"r\" untuk membaca, \"w\" untuk menulis, dan \"a\" untuk menambahkan).\n",
    "\n",
    "Contoh membuka berkas:\n",
    "```python\n",
    "file_handling = open(\"contoh.txt\", \"r\")\n",
    "```\n",
    "\n",
    "### **3. Membaca Berkas**\n",
    "\n",
    "Setelah membuka berkas, kita dapat membaca isinya menggunakan beberapa metode:\n",
    "\n",
    "- **Membaca seluruh isi berkas:**\n",
    "    ```python\n",
    "    isi_teks = file_handling.read()\n",
    "    print(isi_teks)\n",
    "    ```\n",
    "\n",
    "- **Membaca baris per baris:**\n",
    "    ```python\n",
    "    for baris in file_handling:\n",
    "        print(baris)\n",
    "    ```\n",
    "\n",
    "- **Membaca dalam bentuk list:**\n",
    "    ```python\n",
    "    list_baris = file_handling.readlines()\n",
    "    ```\n",
    "\n",
    "### **4. Menulis Berkas**\n",
    "\n",
    "Untuk menulis ke dalam berkas, kita membuka berkas dengan mode \"w\" atau \"a\".\n",
    "\n",
    "Contoh menulis ke dalam berkas:\n",
    "```python\n",
    "file_handling = open(\"contoh.txt\", \"w\")\n",
    "file_handling.write(\"Contoh 1\\n\")\n",
    "```\n",
    "\n",
    "Jika kita ingin menambahkan data tanpa menghapus data yang ada, kita menggunakan mode \"a\":\n",
    "```python\n",
    "file_handling = open(\"contoh.txt\", \"a\")\n",
    "file_handling.write(\"Data baru\\n\")\n",
    "```\n",
    "\n",
    "### **5. Menutup Berkas**\n",
    "\n",
    "Setelah selesai melakukan operasi pada berkas, kita harus menutup berkas tersebut dengan metode `close()`:\n",
    "```python\n",
    "file_handling.close()\n",
    "```\n",
    "\n",
    "---\n",
    "\n",
    "## **Tugas**\n",
    "**Note:** Gunakan logika pemrograman bukan cuman ngikutin gambar. Baca betul-betul apa yang di intruksikan!!"
   ]
  },
  {
   "attachments": {},
   "cell_type": "markdown",
   "id": "e989c82b-4c5e-4eaf-9152-4a4c9a494b65",
   "metadata": {},
   "source": [
    "### **Soal 1: Membaca dan Menulis Berkas**\n",
    "\n",
    "#### **Instruksi:**\n",
    "1. **Program Pertama:**\n",
    "   Buatlah program Python yang menampilkan nama lengkap dan NIM Anda, lalu simpan informasi ini ke dalam berkas bernama `data_diri.txt`.\n",
    "   \n",
    "   Contoh kode:\n",
    "<img src=\"Screenshot (1).png\" alt=\"Deskripsi Gambar\" width=\"350\" style=\"margin-left: 30px;\" />\n",
    "\n",
    "2. **Program Kedua:**\n",
    "   Buatlah program yang membuka dan membaca isi dari berkas `data_diri.txt`, dan tampilkan isinya ke layar.\n",
    "   \n",
    "   Contoh kode:\n",
    "<img src=\"Screenshot (2).png\" alt=\"Deskripsi Gambar\" width=\"350\" style=\"margin-left: 30px;\" />\n",
    "\n",
    "3. **Tugas:**\n",
    "   - Jelaskan fungsi dari setiap baris kode dalam program kedua.\n",
    "\n",
    "---\n",
    "\n"
   ]
  },
  {
   "cell_type": "code",
   "execution_count": 109,
   "id": "b4beb5da-51a9-47ff-a732-d6cf9247ae74",
   "metadata": {
    "id": "ea6a12c4-1360-4bfe-a05f-4098604926bc"
   },
   "outputs": [
    {
     "name": "stdout",
     "output_type": "stream",
     "text": [
      "Masukkan Nama Lengkap:  Hifzi Khairi\n",
      "Masukkan NIM:  2411102441227\n"
     ]
    },
    {
     "name": "stdout",
     "output_type": "stream",
     "text": [
      "Hifzi Khairi 2411102441227\n"
     ]
    }
   ],
   "source": [
    "# Ketikan Code Disini lalu Jalankan (Run)\n",
    "with open(\"data_diri.txt\", \"w\") as file:\n",
    "    nama = input(\"Masukkan Nama Lengkap: \")\n",
    "    nim = input(\"Masukkan NIM: \")\n",
    "    file.write(f\"{nama} {nim}\") \n",
    "\n",
    "with open(\"data_diri.txt\", \"r\") as file: #code ini fungsinya membuka file dengan fungsi open dengan nama berkas dan kode mode akses yaitu \"r\"/read\n",
    "    isi = file.read() #code ini adalah untuk membaca seluruh isi file\n",
    "    print(isi) #code untuk membaca seluruh isi file dan menampilkan ke layar"
   ]
  },
  {
   "cell_type": "markdown",
   "id": "28e24639-72f7-4d78-8169-b805c5bee744",
   "metadata": {},
   "source": [
    "### **Soal 2: Menulis Data ke dalam Berkas**\n",
    "\n",
    "#### **Instruksi:**\n",
    "1. **Program Pertama:**\n",
    "   Buatlah program yang menulis data daftar nama ke dalam berkas `daftar_nama.txt` menggunakan mode \"w\".\n",
    "   \n",
    "   Contoh kode:\n",
    "<img src=\"Screenshot (3).png\" alt=\"Deskripsi Gambar\" width=\"450\" style=\"margin-left: 30px;\" />\n",
    "\n",
    "2. **Program Kedua:**\n",
    "   Buatlah program yang membuka berkas `daftar_nama.txt`, membaca isinya, dan menampilkannya ke layar.\n",
    "   \n",
    "   Contoh kode:\n",
    "<img src=\"Screenshot (4).png\" alt=\"Deskripsi Gambar\" width=\"450\" style=\"margin-left: 30px;\" />\n",
    "\n",
    "3. **Tugas:**\n",
    "   - Berikan keterangan penjelasan dari setiap baris kode dalam program kedua.\n",
    "\n",
    "---\n",
    "\n"
   ]
  },
  {
   "cell_type": "code",
   "execution_count": 107,
   "id": "b3f87cea-e50a-46fd-820f-bc12703db8da",
   "metadata": {
    "id": "ea6a12c4-1360-4bfe-a05f-4098604926bc"
   },
   "outputs": [
    {
     "name": "stdout",
     "output_type": "stream",
     "text": [
      "Hifzi\n",
      "Baihaqi\n",
      "Adit\n"
     ]
    }
   ],
   "source": [
    "# Ketikan Code Disini lalu Jalankan (Run)\n",
    "daftar_nama = [\"Hifzi\\n\", \"Baihaqi\\n\", \"Adit\\n\"] #tipe data collection\n",
    "with open(\"daftar_nama.txt\", \"w\") as file:\n",
    "    file.writelines(daftar_nama)\n",
    "\n",
    "with open(\"daftar_nama.txt\", \"r\") as file: #code ini fungsinya membuka file dengan fungsi open dengan nama berkas dan kode mode akses yaitu \"r\"/read\n",
    "    for nama in file: #code memilih nama yang ada di file\n",
    "        print(nama.strip()) #code ini menggunakan method untuk menghapus whitespace (newline) dan menampilkan ke layar"
   ]
  },
  {
   "cell_type": "markdown",
   "id": "04451d75-fd5c-418f-b2b3-bfe3ca35497d",
   "metadata": {},
   "source": [
    "### **Soal 3: Mengupdate Data dalam Berkas**\n",
    "\n",
    "#### **Instruksi:**\n",
    "1. **Program Pertama:**\n",
    "   Buatlah program yang menambahkan satu nama baru ke dalam berkas `daftar_nama.txt` tanpa menghapus data sebelumnya menggunakan mode \"a\".\n",
    "   \n",
    "   Contoh kode:\n",
    "<img src=\"Screenshot (5).png\" alt=\"Deskripsi Gambar\" width=\"350\" style=\"margin-left: 30px;\" />\n",
    "\n",
    "2. **Program Kedua:**\n",
    "   Buatlah program untuk membuka dan membaca isi berkas `daftar_nama.txt` setelah penambahan, dan tampilkan hasilnya.\n",
    "   \n",
    "   Contoh kode:\n",
    "<img src=\"Screenshot (6).png\" alt=\"Deskripsi Gambar\" width=\"350\" style=\"margin-left: 30px;\" />\n",
    "\n",
    "3. **Tugas:**\n",
    "   - Berikan keterangan penjelasan dari setiap baris kode dalam program kedua.\n",
    "\n",
    "---\n",
    "\n"
   ]
  },
  {
   "cell_type": "code",
   "execution_count": 111,
   "id": "75357d06-3bb8-4b42-94cf-f4b2be24a792",
   "metadata": {
    "id": "ea6a12c4-1360-4bfe-a05f-4098604926bc"
   },
   "outputs": [
    {
     "name": "stdout",
     "output_type": "stream",
     "text": [
      "Hifzi\n",
      "Baihaqi\n",
      "Adit\n",
      "Iqbal\n",
      "\n"
     ]
    }
   ],
   "source": [
    "# Ketikan Code Disini lalu Jalankan (Run)\n",
    "with open(\"daftar_nama.txt\", \"a\") as file:\n",
    "    file.write(\"Iqbal\\n\")\n",
    "\n",
    "with open(\"daftar_nama.txt\", \"r\") as file: #code ini fungsinya membuka file dengan fungsi open dengan nama berkas dan kode mode akses yaitu \"r\"/read\n",
    "    print(file.read()) #code ini adalah untuk membaca seluruh isi file"
   ]
  },
  {
   "cell_type": "markdown",
   "id": "2b0246ff-584f-4484-b52d-18733bcde7ae",
   "metadata": {},
   "source": [
    "### **Soal 4: Menghapus Berkas**\n",
    "\n",
    "#### **Instruksi:**\n",
    "1. Buatlah program untuk menghapus berkas `data_diri.txt` dan `daftar_nama.txt`.\n",
    "   \n",
    "   Contoh kode:\n",
    "  <img src=\"Screenshot (7).png\" alt=\"Deskripsi Gambar\" width=\"350\" style=\"margin-left: 30px;\" />\n",
    "\n",
    "2. Pastikan berkas sudah dihapus dan tampilkan pesan konfirmasi ke layar.\n",
    "\n",
    "3. **Tugas:**\n",
    "   - Jelaskan setiap baris kode dalam program penghapusan berkas.\n",
    "\n",
    "---"
   ]
  },
  {
   "cell_type": "code",
   "execution_count": 119,
   "id": "a61ed888-46f5-4412-bffe-22824dc41f1e",
   "metadata": {
    "id": "ea6a12c4-1360-4bfe-a05f-4098604926bc"
   },
   "outputs": [
    {
     "ename": "FileNotFoundError",
     "evalue": "[WinError 2] The system cannot find the file specified: 'data_diri.txt'",
     "output_type": "error",
     "traceback": [
      "\u001b[1;31m---------------------------------------------------------------------------\u001b[0m",
      "\u001b[1;31mFileNotFoundError\u001b[0m                         Traceback (most recent call last)",
      "Cell \u001b[1;32mIn[119], line 4\u001b[0m\n\u001b[0;32m      1\u001b[0m \u001b[38;5;66;03m# Ketikan Code Disini lalu Jalankan (Run)\u001b[39;00m\n\u001b[0;32m      2\u001b[0m \u001b[38;5;28;01mimport\u001b[39;00m \u001b[38;5;21;01mos\u001b[39;00m\n\u001b[1;32m----> 4\u001b[0m \u001b[43mos\u001b[49m\u001b[38;5;241;43m.\u001b[39;49m\u001b[43mremove\u001b[49m\u001b[43m(\u001b[49m\u001b[38;5;124;43m\"\u001b[39;49m\u001b[38;5;124;43mdata_diri.txt\u001b[39;49m\u001b[38;5;124;43m\"\u001b[39;49m\u001b[43m)\u001b[49m\n\u001b[0;32m      5\u001b[0m os\u001b[38;5;241m.\u001b[39mremove(\u001b[38;5;124m\"\u001b[39m\u001b[38;5;124mdaftar_nama.txt\u001b[39m\u001b[38;5;124m\"\u001b[39m)\n\u001b[0;32m      6\u001b[0m \u001b[38;5;28mprint\u001b[39m(\u001b[38;5;124m\"\u001b[39m\u001b[38;5;124mFile telah dihapus\u001b[39m\u001b[38;5;124m\"\u001b[39m)\n",
      "\u001b[1;31mFileNotFoundError\u001b[0m: [WinError 2] The system cannot find the file specified: 'data_diri.txt'"
     ]
    }
   ],
   "source": [
    "# Ketikan Code Disini lalu Jalankan (Run)\n",
    "import os\n",
    "\n",
    "os.remove(\"data_diri.txt\") #code ini untuk menghapus dengan nama file yang ada\n",
    "os.remove(\"daftar_nama.txt\")\n",
    "print(\"File telah dihapus\")"
   ]
  },
  {
   "cell_type": "markdown",
   "id": "a0730a34-46dd-41ec-8afe-5e0f73823acf",
   "metadata": {},
   "source": [
    "<span style=\"color:red; font-size: 20px;\">\n",
    "<b>Tugas Mandiri Terakhir: Implementasi Penanganan Berkas </b>\n",
    "</span>\n",
    "\n",
    "### **Catatan Penting**\n",
    "1. **Keaslian Kode:**\n",
    "   - Anda diwajibkan membuat program sendiri. **Dilarang menyalin (copy-paste) kode dari teman atau sumber lain.**\n",
    "   - Jika ditemukan pelanggaran, Anda akan dikenakan sanksi akademik sesuai kesepakatan awal.\n",
    "\n",
    "2. **Bonus Nilai:**\n",
    "   - Jika Anda menggunakan konsep **OOP (Object-Oriented Programming)** dalam program, Anda akan mendapatkan **nilai tambahan**.\n",
    "\n",
    "---\n",
    "\n",
    "### **Bagian 1: Menyimpan Data Pribadi**\n",
    "1. **Deskripsi:**\n",
    "   - Buatlah class `DataMahasiswa` dengan metode untuk:\n",
    "     - Menyimpan nama lengkap dan NIM ke dalam file `data_mahasiswa.txt`.\n",
    "     - Menampilkan pesan konfirmasi setelah data berhasil disimpan.\n",
    "\n",
    "2. **Persyaratan:**\n",
    "   - Jika file sudah ada, tambahkan data baru tanpa menghapus data lama.\n",
    "\n",
    "3. **Contoh Output:**\n",
    "   ```\n",
    "   Masukkan Nama Lengkap: John Doe\n",
    "   Masukkan NIM: 12345678\n",
    "   Data berhasil disimpan ke dalam data_mahasiswa.txt.\n",
    "   ```\n",
    "\n",
    "---\n",
    "\n",
    "### **Bagian 2: Membaca Data Pribadi**\n",
    "1. **Deskripsi:**\n",
    "   - Buatlah class `BacaData` dengan metode untuk:\n",
    "     - Membaca isi file `data_mahasiswa.txt` dan menampilkan data dalam format:\n",
    "       ```\n",
    "       Nama Lengkap: John Doe, NIM: 12345678\n",
    "       Nama Lengkap: Jane Smith, NIM: 87654321\n",
    "       ```\n",
    "\n",
    "2. **Persyaratan:**\n",
    "   - Jika file tidak ditemukan, tampilkan pesan: \"File tidak ditemukan.\"\n",
    "\n",
    "---\n",
    "\n",
    "### **Bagian 3: Mengelola Daftar Kehadiran**\n",
    "1. **Deskripsi:**\n",
    "   - Buatlah class `Kehadiran` dengan metode untuk:\n",
    "     - Menyimpan daftar kehadiran mahasiswa ke dalam file `kehadiran.txt`.\n",
    "     - Menerima input nama dan status kehadiran (Hadir/Tidak Hadir).\n",
    "     - Menampilkan daftar kehadiran.\n",
    "\n",
    "2. **Persyaratan:**\n",
    "   - Data harus disimpan dalam format berikut:\n",
    "     ```\n",
    "     John Doe - Hadir\n",
    "     Jane Smith - Tidak Hadir\n",
    "     ```\n",
    "\n",
    "---\n",
    "\n",
    "### **Bagian 4: Memperbarui Data Kehadiran**\n",
    "1. **Deskripsi:**\n",
    "   - Tambahkan metode pada class `Kehadiran` untuk:\n",
    "     - Menambahkan data baru ke file `kehadiran.txt` tanpa menghapus data lama.\n",
    "     - Mengecek apakah nama tertentu sudah ada di file.\n",
    "     - Jika nama sudah ada, tampilkan pesan: \"Nama sudah ada di daftar.\"\n",
    "\n",
    "2. **Persyaratan:**\n",
    "   - Tampilkan daftar kehadiran setelah data baru ditambahkan.\n",
    "\n",
    "---\n",
    "\n",
    "### **Bagian 5: Menghapus File**\n",
    "1. **Deskripsi:**\n",
    "   - Buatlah class `FileManager` dengan metode untuk:\n",
    "     - Menghapus file tertentu (misalnya `kehadiran.txt` atau `data_mahasiswa.txt`) jika sudah tidak diperlukan.\n",
    "     - Memastikan ada konfirmasi dari pengguna sebelum file dihapus.\n",
    "\n",
    "2. **Contoh Output:**\n",
    "   ```\n",
    "   Apakah Anda yakin ingin menghapus file kehadiran.txt? (y/n): y\n",
    "   File berhasil dihapus.\n",
    "   ```\n",
    "\n",
    "---\n",
    "\n",
    "**Catatan Akhir:** \n",
    "- Buat dalam 1 output (program menu terstruktur)\n",
    "- Jika ada pertanyaan, silakan diskusi dengan dosen sebelum batas akhir pengumpulan. Jangan menunda!"
   ]
  },
  {
   "cell_type": "code",
   "execution_count": 48,
   "id": "87ec68e9-f1ef-4bf7-8100-00328ef11876",
   "metadata": {
    "id": "ea6a12c4-1360-4bfe-a05f-4098604926bc"
   },
   "outputs": [
    {
     "name": "stdout",
     "output_type": "stream",
     "text": [
      "\n",
      "Menu:\n",
      "1. Tambah Data Mahasiswa\n",
      "2. Baca Data Mahasiswa\n",
      "3. Tambah Kehadiran\n",
      "4. Lihat Kehadiran\n",
      "5. Hapus File\n",
      "6. Keluar\n"
     ]
    },
    {
     "name": "stdout",
     "output_type": "stream",
     "text": [
      "Pilih menu:  1\n",
      "Masukkan Nama Lengkap:  Hifzi Khairi\n",
      "Masukkan NIM:  2411102441227\n"
     ]
    },
    {
     "name": "stdout",
     "output_type": "stream",
     "text": [
      "Data berhasil disimpan ke dalam mahasiswa.txt\n",
      "\n",
      "Menu:\n",
      "1. Tambah Data Mahasiswa\n",
      "2. Baca Data Mahasiswa\n",
      "3. Tambah Kehadiran\n",
      "4. Lihat Kehadiran\n",
      "5. Hapus File\n",
      "6. Keluar\n"
     ]
    },
    {
     "name": "stdout",
     "output_type": "stream",
     "text": [
      "Pilih menu:  2\n"
     ]
    },
    {
     "name": "stdout",
     "output_type": "stream",
     "text": [
      "Data Mahasiswa:\n",
      "Nama Lengkap: Hifzi Khairi, NIM: 2411102441227\n",
      "Nama Lengkap: Muhammad Al Baihaqi, NIM: 2411102441234\n",
      "Nama Lengkap: Hifzi Khairi, NIM: 2411102441227\n",
      "Nama Lengkap: Hifzi Khairi, NIM:2411102441227Nama Lengkap: Hifzi Khairi, NIM: 2411102441227\n",
      "\n",
      "\n",
      "Menu:\n",
      "1. Tambah Data Mahasiswa\n",
      "2. Baca Data Mahasiswa\n",
      "3. Tambah Kehadiran\n",
      "4. Lihat Kehadiran\n",
      "5. Hapus File\n",
      "6. Keluar\n"
     ]
    },
    {
     "name": "stdout",
     "output_type": "stream",
     "text": [
      "Pilih menu:  3\n",
      "Masukkan Nama Lengkap:  Hifzi Khairi\n",
      "Masukkan NIM:  2411102441227\n",
      "Status Kehadiran (Hadir/Tidak Hadir):  Hadir\n"
     ]
    },
    {
     "name": "stdout",
     "output_type": "stream",
     "text": [
      "Kehadiran berhasil disimpan.\n",
      "\n",
      "Menu:\n",
      "1. Tambah Data Mahasiswa\n",
      "2. Baca Data Mahasiswa\n",
      "3. Tambah Kehadiran\n",
      "4. Lihat Kehadiran\n",
      "5. Hapus File\n",
      "6. Keluar\n"
     ]
    },
    {
     "name": "stdout",
     "output_type": "stream",
     "text": [
      "Pilih menu:  4\n"
     ]
    },
    {
     "name": "stdout",
     "output_type": "stream",
     "text": [
      "Daftar Kehadiran:\n",
      "Rofi (2411102441928) - Hadir\n",
      "Iqbal (2411102441093) - Tidak Hadir\n",
      "Febri (2411102441843) - hadir\n",
      "Hifzi Khairi (2411102441227) - Hadir\n",
      "\n",
      "Menu:\n",
      "1. Tambah Data Mahasiswa\n",
      "2. Baca Data Mahasiswa\n",
      "3. Tambah Kehadiran\n",
      "4. Lihat Kehadiran\n",
      "5. Hapus File\n",
      "6. Keluar\n"
     ]
    },
    {
     "name": "stdout",
     "output_type": "stream",
     "text": [
      "Pilih menu:  5\n",
      "Masukkan nama file yang ingin dihapus:  tidak ada\n",
      "Apakah Anda yakin ingin menghapus file tidak ada? (ya/tidak):  ya\n"
     ]
    },
    {
     "name": "stdout",
     "output_type": "stream",
     "text": [
      "File tidak ada tidak ditemukan.\n",
      "\n",
      "Menu:\n",
      "1. Tambah Data Mahasiswa\n",
      "2. Baca Data Mahasiswa\n",
      "3. Tambah Kehadiran\n",
      "4. Lihat Kehadiran\n",
      "5. Hapus File\n",
      "6. Keluar\n"
     ]
    },
    {
     "name": "stdout",
     "output_type": "stream",
     "text": [
      "Pilih menu:  6\n"
     ]
    },
    {
     "name": "stdout",
     "output_type": "stream",
     "text": [
      "Selesai.\n"
     ]
    }
   ],
   "source": [
    "# Ketikan Code Disini lalu Jalankan (Run)\n",
    "import os\n",
    "\n",
    "class DataMahasiswa:\n",
    "    def __init__(self):\n",
    "        self.file = \"mahasiswa.txt\"\n",
    "\n",
    "    def simpandata(self, nama, nim):\n",
    "        with open(self.file, \"a\") as file:\n",
    "            file.write(f\"Nama Lengkap: {nama}, NIM: {nim}\\n\")\n",
    "        print(f\"Data berhasil disimpan ke dalam {self.file}\")\n",
    "\n",
    "class BacaData:\n",
    "    def __init__(self):\n",
    "        self.file = \"mahasiswa.txt\"\n",
    "\n",
    "    def lihatdata(self):\n",
    "        try:\n",
    "            with open(self.file, \"r\") as file:\n",
    "                data = file.read()\n",
    "                if not data:\n",
    "                    print(\"Tidak ada data mahasiswa.\")\n",
    "                else:\n",
    "                    print(\"Data Mahasiswa:\")\n",
    "                    print(data)\n",
    "        except FileNotFoundError:\n",
    "            print(\"File data mahasiswa tidak ditemukan.\")\n",
    "\n",
    "class Kehadiran:\n",
    "    def __init__(self):\n",
    "        self.file = \"kehadiran.txt\"\n",
    "\n",
    "    def simpan_kehadiran(self, nama, nim, status):\n",
    "        try:\n",
    "            with open(self.file, \"a\") as file:\n",
    "                file.write(f\"{nama} ({nim}) - {status}\\n\")\n",
    "            print(\"Kehadiran berhasil disimpan.\")\n",
    "        except Exception as e:\n",
    "            print(f\"Terjadi kesalahan: {e}\")\n",
    "\n",
    "    def tampilkan_kehadiran(self):\n",
    "        try:\n",
    "            with open(self.file, \"r\") as file:\n",
    "                data = file.readlines()\n",
    "                if not data:\n",
    "                    print(\"Tidak ada data kehadiran.\")\n",
    "                else:\n",
    "                    print(\"Daftar Kehadiran:\")\n",
    "                    for line in data:\n",
    "                        print(line.strip())\n",
    "        except FileNotFoundError:\n",
    "            print(\"File kehadiran tidak ditemukan.\")\n",
    "\n",
    "class File:\n",
    "    @staticmethod\n",
    "    def hapus_file(nama_file):\n",
    "        konfirmasi = input(f\"Apakah Anda yakin ingin menghapus file {nama_file}? (ya/tidak): \")\n",
    "        if konfirmasi.lower() in [\"ya\", \"y\"]:\n",
    "            try:\n",
    "                os.remove(nama_file)\n",
    "                print(f\"File {nama_file} berhasil dihapus.\")\n",
    "            except FileNotFoundError:\n",
    "                print(f\"File {nama_file} tidak ditemukan.\")\n",
    "        else:\n",
    "            print(\"File tidak dihapus.\")\n",
    "\n",
    "while True:\n",
    "    print(\"\\nMenu:\")\n",
    "    print(\"1. Tambah Data Mahasiswa\")\n",
    "    print(\"2. Baca Data Mahasiswa\")\n",
    "    print(\"3. Tambah Kehadiran\")\n",
    "    print(\"4. Lihat Kehadiran\")\n",
    "    print(\"5. Hapus File\")\n",
    "    print(\"6. Keluar\")\n",
    "    \n",
    "    pilihan = input(\"Pilih menu: \")\n",
    "    \n",
    "    if pilihan == \"1\":\n",
    "        nama = input(\"Masukkan Nama Lengkap: \")\n",
    "        try:\n",
    "            nim = int(input(\"Masukkan NIM: \"))\n",
    "            data_mhs = DataMahasiswa()\n",
    "            data_mhs.simpandata(nama, nim)\n",
    "        except ValueError:\n",
    "            print(\"NIM harus berupa angka!\")\n",
    "\n",
    "    elif pilihan == \"2\":\n",
    "        baca_data = BacaData()\n",
    "        baca_data.lihatdata()\n",
    "\n",
    "    elif pilihan == \"3\":\n",
    "        nama = input(\"Masukkan Nama Lengkap: \")\n",
    "        nim = input(\"Masukkan NIM: \")\n",
    "        status = input(\"Status Kehadiran (Hadir/Tidak Hadir): \")\n",
    "        kehadiran = Kehadiran()\n",
    "        kehadiran.simpan_kehadiran(nama, nim, status)\n",
    "\n",
    "    elif pilihan == \"4\":\n",
    "        kehadiran = Kehadiran()\n",
    "        kehadiran.tampilkan_kehadiran()\n",
    "\n",
    "    elif pilihan == \"5\":\n",
    "        nama_file = input(\"Masukkan nama file yang ingin dihapus: \")\n",
    "        File.hapus_file(nama_file)\n",
    "\n",
    "    elif pilihan == \"6\":\n",
    "        print(\"Selesai.\")\n",
    "        break\n",
    "    else:\n",
    "        print(\"Pilihan tidak valid!\")"
   ]
  },
  {
   "cell_type": "markdown",
   "id": "22721a65-ad23-4a61-8edf-4c8ac1e7db5b",
   "metadata": {},
   "source": [
    "# Jelaskan  Kesimpulan dari Pertemuan kali ini Dengan Format Markdown, Min.3 Baris\n",
    "# Note: nilai plus buat yang masukkan gambar, visualisasi penjelasan, dan table penjelasan\n",
    "### Kesimpulan pada hari ini, mempelajari File Handling, File handling dalam Python adalah menangani file, seperti menulis (w), membaca (r), menghapus, mengganti nama, dan menambahkan data dalam file (a). Untuk membuka file kita menggunakan fungsi open lalu nama berkas dan mode akses seperti w, r, a. membaca file ada 3 metode yg bisa dilakukan, yaitu membaca seluruh isi berkas, membaca baris per baris, dan membaca dlm bentuk list.\n",
    "\n",
    "**Membaca dan Menulis Berkas**<br>\n",
    "<img src=\"1.png\" width=\"1000px\">\n",
    "\n",
    "**Menulis Data dan Mengupdate dalam Berkas**<br>\n",
    "<img src=\"2.png\" width=\"1000px\">\n",
    "<img src=\"3.png\" width=\"1000px\">"
   ]
  },
  {
   "cell_type": "code",
   "execution_count": null,
   "id": "22c13e1d-5549-4fd4-b0e3-481733086a57",
   "metadata": {},
   "outputs": [],
   "source": []
  }
 ],
 "metadata": {
  "colab": {
   "provenance": []
  },
  "kernelspec": {
   "display_name": "Python 3 (ipykernel)",
   "language": "python",
   "name": "python3"
  },
  "language_info": {
   "codemirror_mode": {
    "name": "ipython",
    "version": 3
   },
   "file_extension": ".py",
   "mimetype": "text/x-python",
   "name": "python",
   "nbconvert_exporter": "python",
   "pygments_lexer": "ipython3",
   "version": "3.12.4"
  },
  "widgets": {
   "application/vnd.jupyter.widget-state+json": {
    "state": {},
    "version_major": 2,
    "version_minor": 0
   }
  }
 },
 "nbformat": 4,
 "nbformat_minor": 5
}
