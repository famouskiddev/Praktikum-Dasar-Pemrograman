{
 "cells": [
  {
   "cell_type": "markdown",
   "id": "b3450a5a-c882-48e6-8aae-8be59018aedb",
   "metadata": {
    "id": "b3450a5a-c882-48e6-8aae-8be59018aedb"
   },
   "source": [
    "# **Modul Pertemuan 11: Dasar Pemrograman Berorientasi Objek**\n",
    "\n",
    "## **Pembahasan**\n",
    "\n",
    "### **1. Kelas dan Objek**\n",
    "\n",
    "Dalam pemrograman berorientasi objek (OOP), *kelas* merupakan blueprint atau cetak biru dari objek. Kelas mendefinisikan atribut (variabel) dan perilaku (method) yang dimiliki oleh objek yang dibuat dari kelas tersebut. Misalnya, kita bisa membayangkan kelas sebagai rancangan dari sebuah mobil, dan mobil yang sebenarnya adalah objek.\n",
    "\n",
    "Berikut contoh sederhana sebuah kelas:\n",
    "\n",
    "```python\n",
    "class Motor:\n",
    "    merek = \"Honda\"\n",
    "    warna = \"Merah\"\n",
    "\n",
    "    def jalan(self):\n",
    "        print(f\"Motor dengan warna {self.warna} sedang jalan\")\n",
    "```\n",
    "\n",
    "### **2. Instansiasi Objek**\n",
    "\n",
    "Untuk membuat objek dari suatu kelas, kita melakukan instansiasi dengan cara memanggil nama kelas seperti memanggil fungsi. Setiap objek yang dibuat dari kelas tersebut memiliki atribut dan method yang dapat diakses menggunakan operator dot (`.`).\n",
    "\n",
    "Contoh pembuatan objek dari kelas `Motor`:\n",
    "\n",
    "```python\n",
    "motor_saya = Motor()\n",
    "motor_saya.jalan()  # Output: Motor dengan warna Merah sedang jalan\n",
    "```\n",
    "\n",
    "### **3. Method dalam Kelas**\n",
    "\n",
    "Method dalam kelas berfungsi seperti fungsi, namun terkait dengan objek atau kelas. Method dapat melakukan tugas tertentu, seperti menghitung atau menampilkan informasi. Method juga bisa menerima parameter, dengan *self* sebagai parameter pertama yang wajib ada.\n",
    "\n",
    "### **4. Constructor (`__init__` Method)**\n",
    "\n",
    "Constructor adalah method khusus yang dijalankan otomatis ketika objek baru dibuat. Dalam Python, constructor didefinisikan dengan method `__init__()`. Ini sering digunakan untuk memberikan nilai awal pada atribut objek.\n",
    "\n",
    "Contoh constructor pada kelas `Balok`:\n",
    "\n",
    "```python\n",
    "class Balok:\n",
    "    def __init__(self, p, l, t):\n",
    "        self.panjang = p\n",
    "        self.lebar = l\n",
    "        self.tinggi = t\n",
    "\n",
    "    def volume(self):\n",
    "        return self.panjang * self.lebar * self.tinggi\n",
    "```\n",
    "\n",
    "Instansiasi objek dengan constructor:\n",
    "\n",
    "```python\n",
    "kotak = Balok(3, 4, 5)\n",
    "print(\"Volume balok:\", kotak.volume())  # Output: Volume balok: 60\n",
    "```\n",
    "\n",
    "---\n",
    "\n",
    "## **Tugas**\n",
    "**Note:** Gunakan logika pemrograman bukan cuman ngikutin gambar. Baca betul-betul apa yang di intruksikan!!"
   ]
  },
  {
   "attachments": {},
   "cell_type": "markdown",
   "id": "e989c82b-4c5e-4eaf-9152-4a4c9a494b65",
   "metadata": {},
   "source": [
    "### **Soal 1: Membuat Kelas Sederhana**\n",
    "\n",
    "#### **Instruksi:**\n",
    "1. Buatlah kelas `Mahasiswa` yang memiliki atribut `nama`, `nim`, dan `jurusan`.\n",
    "2. Buatlah method `info` dalam kelas tersebut yang mencetak informasi mahasiswa.\n",
    "3. Instansiasikan objek dari kelas `Mahasiswa` dan tampilkan informasi mahasiswa menggunakan method `info`.\\\n",
    "4. Jelaskan code dan outputnya\n",
    "5. Jelaskan apa itu ```__init__```\n",
    "\n",
    "Contoh format kode yang benar:\n",
    "\n",
    "<img src=\"Screenshot (1).png\" alt=\"Deskripsi Gambar\" width=\"550\" style=\"margin-left: 30px;\" />\n",
    "---\n",
    "\n"
   ]
  },
  {
   "cell_type": "code",
   "execution_count": 92,
   "id": "b4beb5da-51a9-47ff-a732-d6cf9247ae74",
   "metadata": {
    "id": "ea6a12c4-1360-4bfe-a05f-4098604926bc"
   },
   "outputs": [
    {
     "name": "stdout",
     "output_type": "stream",
     "text": [
      "Nama: Hifzi Khairi, NIM: 2411102441227, Jurusan: S1 Teknik Informatika\n"
     ]
    }
   ],
   "source": [
    "# Ketikan Code Disini lalu Jalankan (Run)\n",
    "class Mahasiswa:\n",
    "    def __init__(self, nama, nim, jurusan): #init berguna untuk menerima parameter dari definisi\n",
    "        self.nama = nama\n",
    "        self.nim = nim\n",
    "        self.jurusan = jurusan #code ini adalah atribut dari kelas Mahasiswa\n",
    "\n",
    "    def info(self):\n",
    "        print(f\"Nama: {self.nama}, NIM: {self.nim}, Jurusan: {self.jurusan}\")\n",
    "\n",
    "mhs1 = Mahasiswa(\"Hifzi Khairi\", 2411102441227, \"S1 Teknik Informatika\")\n",
    "mhs1.info() #code ini adalah method untuk menampilkan informasi\n",
    "#output akan menampilkan Nama, Nim, dan Jurusan"
   ]
  },
  {
   "cell_type": "markdown",
   "id": "28e24639-72f7-4d78-8169-b805c5bee744",
   "metadata": {},
   "source": [
    "### **Soal 2: Menambah Method dalam Kelas**\n",
    "\n",
    "#### **Instruksi:**\n",
    "1. Tambahkan method baru bernama `perkenalan` dalam kelas `Mahasiswa` yang menampilkan pesan perkenalan dari mahasiswa.\n",
    "2. Gunakan method tersebut untuk memperkenalkan diri dari objek yang telah Anda buat.\n",
    "\n",
    "Contoh penggunaan:\n",
    "\n",
    "```python\n",
    "mhs1.perkenalan()\n",
    "```\n",
    "\n",
    "---\n",
    "\n"
   ]
  },
  {
   "cell_type": "code",
   "execution_count": 254,
   "id": "b3f87cea-e50a-46fd-820f-bc12703db8da",
   "metadata": {
    "id": "ea6a12c4-1360-4bfe-a05f-4098604926bc"
   },
   "outputs": [
    {
     "name": "stdout",
     "output_type": "stream",
     "text": [
      "Perkenalkan Nama saya Hifzi Khairi dengan NIM 2411102441227 dari Jurusan S1 Teknik Informatika\n"
     ]
    }
   ],
   "source": [
    "# Ketikan Code Disini lalu Jalankan (Run)\n",
    "class Mahasiswa:\n",
    "    def __init__(self, nama, nim, jurusan):\n",
    "        self.nama = nama\n",
    "        self.nim = nim\n",
    "        self.jurusan = jurusan\n",
    "        \n",
    "    def perkenalan(self):\n",
    "        print(f\"Perkenalkan Nama saya {self.nama} dengan NIM {self.nim} dari Jurusan {self.jurusan}\")\n",
    "\n",
    "mhs1 = Mahasiswa(\"Hifzi Khairi\", 2411102441227, \"S1 Teknik Informatika\")\n",
    "mhs1.perkenalan()"
   ]
  },
  {
   "cell_type": "markdown",
   "id": "04451d75-fd5c-418f-b2b3-bfe3ca35497d",
   "metadata": {},
   "source": [
    "### **Soal 3: Membuat Kelas dengan Constructor**\n",
    "\n",
    "#### **Instruksi:**\n",
    "1. Buatlah kelas `PersegiPanjang` yang memiliki atribut `panjang` dan `lebar`.\n",
    "2. Buatlah method `luas` yang menghitung luas persegi panjang.\n",
    "3. Buatlah method `keliling` yang menghitung keliling persegi panjang.\n",
    "4. Instansiasikan objek dari kelas tersebut dan tampilkan luas dan kelilingnya.\n",
    "5. Jelaskan Code serta outputnya\n",
    "6. Perbaiki markdown ini menjadi jelas\n",
    "\n",
    "Contoh format kode yang salah:\n",
    "\n",
    "<img src=\"Screenshot (2).png\" alt=\"Deskripsi Gambar\" width=\"550\" style=\"margin-left: 30px;\" />\n",
    "---\n"
   ]
  },
  {
   "cell_type": "code",
   "execution_count": 84,
   "id": "75357d06-3bb8-4b42-94cf-f4b2be24a792",
   "metadata": {
    "id": "ea6a12c4-1360-4bfe-a05f-4098604926bc"
   },
   "outputs": [
    {
     "name": "stdout",
     "output_type": "stream",
     "text": [
      "Luas: 20\n",
      "Keliling: 18\n"
     ]
    }
   ],
   "source": [
    "# Ketikan Code Disini lalu Jalankan (Run)\n",
    "class PersegiPanjang: \n",
    "    def __init__(self, panjang, lebar): #menambah underscore pada init yang sebelumnya hanya 1\n",
    "        self.panjang = panjang\n",
    "        self.lebar = lebar #mengubah menjadi panjang dan lebar yang sebelumnya height dan width\n",
    "\n",
    "    def luas(self):\n",
    "        return self.panjang * self.lebar #code ini adalah rumus luas dari Persegi Panjang\n",
    "\n",
    "    def keliling(self):\n",
    "        return 2 * (self.panjang + self.lebar) #code ini adalah rumus keliling dari Persegi Panjang\n",
    "\n",
    "pp = PersegiPanjang(4, 5) #mengubah Rectangle menjadi PersegiPanjang\n",
    "print(\"Luas:\", pp.luas()) #code ini untuk menampilkan hasil luas persegi panjang\n",
    "print(\"Keliling:\", pp.keliling()) #code ini untuk menampilkan hasil luas persegi panjang"
   ]
  },
  {
   "cell_type": "markdown",
   "id": "2b0246ff-584f-4484-b52d-18733bcde7ae",
   "metadata": {},
   "source": [
    "### **Soal 4: Membuat Kelas dengan Method Tambahan**\n",
    "\n",
    "#### **Instruksi:**\n",
    "1. Buatlah kelas `Lingkaran` yang memiliki atribut `jari_jari`.\n",
    "2. Buatlah method `luas` yang menghitung luas lingkaran (rumus: \\( \\pi r^2 \\)).\n",
    "3. Buatlah method `keliling` yang menghitung keliling lingkaran (rumus: \\( 2\\pi r \\)).\n",
    "4. Tambahkan constructor untuk menginisialisasi atribut `jari_jari`.\n",
    "5. Instansiasikan objek dan hitung luas serta keliling lingkaran.\n",
    "\n",
    "Contoh penggunaan:\n",
    "\n",
    "<img src=\"Screenshot (3).png\" alt=\"Deskripsi Gambar\" width=\"450\" style=\"margin-left: 30px;\" />\n",
    "\n",
    "---\n",
    "\n"
   ]
  },
  {
   "cell_type": "code",
   "execution_count": 106,
   "id": "a61ed888-46f5-4412-bffe-22824dc41f1e",
   "metadata": {
    "id": "ea6a12c4-1360-4bfe-a05f-4098604926bc"
   },
   "outputs": [
    {
     "name": "stdout",
     "output_type": "stream",
     "text": [
      "Luas Lingkaran: 153.86\n",
      "Keliling Lingkaran: 43.96\n"
     ]
    }
   ],
   "source": [
    "# Ketikan Code Disini lalu Jalankan (Run)\n",
    "class Circle:\n",
    "    pi = 3.14\n",
    "\n",
    "    def __init__(self, jari_jari):\n",
    "        self.jari_jari = jari_jari\n",
    "\n",
    "    def luas(self):\n",
    "        return self.pi * (self.jari_jari ** 2)\n",
    "\n",
    "    def keliling(self):\n",
    "        return 2 * self.pi * self.jari_jari\n",
    "\n",
    "lingkaran_besar = Circle(7)\n",
    "print(\"Luas Lingkaran:\", lingkaran_besar.luas())\n",
    "print(\"Keliling Lingkaran:\", lingkaran_besar.keliling())"
   ]
  },
  {
   "cell_type": "markdown",
   "id": "027609a3-346c-4999-a485-772128a8bb6a",
   "metadata": {},
   "source": [
    "### **Soal 5: Memodifikasi Kelas dengan Logika Tambahan**\n",
    "\n",
    "#### **Instruksi:**\n",
    "1. Buat kelas `Karyawan` yang memiliki atribut `nama`, `gaji`, dan `jabatan`.\n",
    "2. Tambahkan method `kenaikan_gaji` yang akan menghitung kenaikan gaji karyawan berdasarkan jabatan:\n",
    "   - Jika jabatan \"Manager\", naikkan gaji 10%.\n",
    "   - Jika jabatan \"Staf\", naikkan gaji 5%.\n",
    "3. Tambahkan method `info` untuk mencetak informasi karyawan termasuk gaji setelah kenaikan.\n",
    "4. Instansiasikan objek karyawan dan panggil method `kenaikan_gaji`.\n",
    "\n",
    "Contoh format kode:\n",
    "\n",
    "<img src=\"Screenshot (4).png\" alt=\"Deskripsi Gambar\" width=\"550\" style=\"margin-left: 30px;\" />\n",
    "\n",
    "---"
   ]
  },
  {
   "cell_type": "code",
   "execution_count": 136,
   "id": "ea6a12c4-1360-4bfe-a05f-4098604926bc",
   "metadata": {
    "id": "ea6a12c4-1360-4bfe-a05f-4098604926bc"
   },
   "outputs": [
    {
     "name": "stdout",
     "output_type": "stream",
     "text": [
      "Nama: Budi, Jabatan: Manager, Gaji: 550000.0\n"
     ]
    }
   ],
   "source": [
    "# Ketikan Code Disini lalu Jalankan (Run)\n",
    "class Karyawan: (kenapa superclass? karena memilik anak karyawan IT)\n",
    "    def __init__(self, nama, gaji, jabatan):\n",
    "        self.nama = nama\n",
    "        self.gaji = gaji\n",
    "        self.jabatan = jabatan\n",
    "\n",
    "    def kenaikan_gaji(self):\n",
    "        if self.jabatan == \"Manager\":\n",
    "            self.gaji *= 1.10\n",
    "        elif self.jabatan == \"Staf\":\n",
    "            self.gaji *= 1.05\n",
    "\n",
    "    def info(self):\n",
    "        print(f\"Nama: {self.nama}, Jabatan: {self.jabatan}, Gaji: {self.gaji}\")\n",
    "\n",
    "karyawan1 = Karyawan(\"Budi\", 500000, \"Manager\")\n",
    "karyawan1.kenaikan_gaji()\n",
    "karyawan1.info()"
   ]
  },
  {
   "cell_type": "markdown",
   "id": "f63cf7a0-cc5a-449e-9f7d-c14947ba96a3",
   "metadata": {},
   "source": [
    "<span style=\"color:red; font-size: 20px;\">\n",
    "<b>Tugas Mandiri </b>\n",
    "</span>\n",
    "\n",
    "1. **Inheritance:** Modifikasilah kelas `Karyawan` sehingga memiliki subclass bernama `KaryawanIT` yang memiliki tambahan atribut `keahlian`. Tambahkan method `info` di subclass untuk mencetak informasi lengkap tentang karyawan IT.\n",
    "   \n",
    "2. **Polimorfisme:** Buatlah dua kelas yang mewakili dua jenis kendaraan, misalnya `Mobil` dan `Motor`, keduanya memiliki method `jalan()` yang menampilkan pesan berbeda. Buatlah program yang memanfaatkan polimorfisme untuk memanggil method `jalan()` pada masing-masing objek.\n"
   ]
  },
  {
   "cell_type": "code",
   "execution_count": 248,
   "id": "f35c2ac5-0bde-47f0-ba6c-ec52de9d14be",
   "metadata": {
    "id": "ea6a12c4-1360-4bfe-a05f-4098604926bc"
   },
   "outputs": [
    {
     "name": "stdout",
     "output_type": "stream",
     "text": [
      "Nama: Hifzi, Jabatan: Manager, Gaji: 550000.0\n",
      "Nama: Budi, Jabatan: Staf, Gaji: 315000.0, Keahlian: Ahli dari berbagai bahasa pemrograman (Full Stack)\n",
      "Nama: Asep, Jabatan: Staf, Gaji: 105000.0, Keahlian: Mendesain tampilan pada aplikasi ataupun website (UI/UX Designer)\n",
      "\n",
      "Pagani Huayra dapat menempuh dengan kecepatan 383 km/jam\n",
      "Yamaha R1M dapat menempuh kecepatan 299 km/jam\n"
     ]
    }
   ],
   "source": [
    "# Ketikan Code Disini lalu Jalankan (Run)\n",
    "#Inheritance\n",
    "class Karyawan:\n",
    "    def __init__(self, nama, gaji, jabatan):\n",
    "        self.nama = nama\n",
    "        self.gaji = gaji\n",
    "        self.jabatan = jabatan\n",
    "\n",
    "    def kenaikan_gaji(self):\n",
    "        if self.jabatan == \"Manager\":\n",
    "            self.gaji *= 1.10\n",
    "        elif self.jabatan == \"Staf\":\n",
    "            self.gaji *= 1.05\n",
    "\n",
    "    def info(self):\n",
    "        print(f\"Nama: {self.nama}, Jabatan: {self.jabatan}, Gaji: {self.gaji:}\")\n",
    "\n",
    "class KaryawanIT(Karyawan):\n",
    "    def __init__(self, nama, gaji, jabatan, keahlian):\n",
    "        super().__init__(nama, gaji, jabatan) #super fungsi yang digunakan untuk mengakses metode dan properti kelas Karyawan\n",
    "        self.keahlian = keahlian\n",
    "\n",
    "    def info(self):\n",
    "        print(f\"Nama: {self.nama}, Jabatan: {self.jabatan}, Gaji: {self.gaji}, Keahlian: {self.keahlian}\")\n",
    "\n",
    "karyawan1 = Karyawan(\"Hifzi\", 500000, \"Manager\")\n",
    "karyawan1.kenaikan_gaji()\n",
    "karyawan1.info()\n",
    "\n",
    "karyawanIT1 = KaryawanIT(\"Budi\", 300000, \"Staf\", \"Ahli dari berbagai bahasa pemrograman (Full Stack)\")\n",
    "karyawanIT1.kenaikan_gaji()\n",
    "karyawanIT1.info()\n",
    "\n",
    "karyawanIT2 = KaryawanIT(\"Asep\", 100000, \"Staf\", \"Mendesain tampilan pada aplikasi ataupun website (UI/UX Designer)\")\n",
    "karyawanIT2.kenaikan_gaji()\n",
    "karyawanIT2.info()\n",
    "\n",
    "#Polimorfisme\n",
    "class mobil:\n",
    "    mobil = \"Pagani Huayra\"\n",
    "    def jalan(self):\n",
    "        print(f\"\\n{self.mobil} dapat menempuh dengan kecepatan 383 km/jam\")\n",
    "\n",
    "class motor:\n",
    "    motor = \"Yamaha R1M\"\n",
    "    def jalan(self):\n",
    "        print(f\"{self.motor} dapat menempuh kecepatan 299 km/jam\")\n",
    "        \n",
    "pemobil = mobil()\n",
    "pemobil.jalan()\n",
    "pemotor = motor()\n",
    "pemotor.jalan()"
   ]
  },
  {
   "cell_type": "markdown",
   "id": "408be13e-aee5-42e7-bdd5-9faf7815b3a7",
   "metadata": {},
   "source": [
    "# Jelaskan  Kesimpulan dari Pertemuan kali ini Dengan Format Markdown, Min.3 Baris\n",
    "# Note: nilai plus buat yang masukkan gambar, visualisasi penjelasan, dan table penjelasan\n",
    "\n",
    "### Kesimpulan pada hari ini, mempelajari PBO (Pemrograman Berorientasi Objek). Kelas merupakan blueprint dari suatu objek. Kelas mendefinisikan atribut (variabel) dan perilaku (method) yang dimiliki oleh objek yang dibuat dari kelas tersebut. Setiap objek dapat diakses menggunakan operator dot (.). Method dalam kelas berfungsi sebagai fungsi terkait dengan objek atau kelas. Fungsi __init__ didefinisikan dalam suatu kelas untuk menginisialisasi suatu karateristik objek.\n",
    "\n",
    "**Kelas Sederhana**<br>\n",
    "<img src=\"1.png\" width=\"500px\">\n",
    "\n",
    "**Menambah Method dalam Kelas**<br>\n",
    "<img src=\"2.png\" width=\"500px\">"
   ]
  },
  {
   "cell_type": "code",
   "execution_count": null,
   "id": "c9e8d1e0-e146-4781-878a-de45a8d72b59",
   "metadata": {},
   "outputs": [],
   "source": []
  }
 ],
 "metadata": {
  "colab": {
   "provenance": []
  },
  "kernelspec": {
   "display_name": "Python 3 (ipykernel)",
   "language": "python",
   "name": "python3"
  },
  "language_info": {
   "codemirror_mode": {
    "name": "ipython",
    "version": 3
   },
   "file_extension": ".py",
   "mimetype": "text/x-python",
   "name": "python",
   "nbconvert_exporter": "python",
   "pygments_lexer": "ipython3",
   "version": "3.12.4"
  },
  "widgets": {
   "application/vnd.jupyter.widget-state+json": {
    "state": {},
    "version_major": 2,
    "version_minor": 0
   }
  }
 },
 "nbformat": 4,
 "nbformat_minor": 5
}
